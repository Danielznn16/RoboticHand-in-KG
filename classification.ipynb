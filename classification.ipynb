{
 "cells": [
  {
   "cell_type": "code",
   "execution_count": 1,
   "metadata": {},
   "outputs": [],
   "source": [
    "import torch as pt\n",
    "import importlib\n",
    "import os\n",
    "import sys\n",
    "import numpy as np\n",
    "from data_utils.ModelNetDataLoader import pc_normalize, ModelNetDataLoader"
   ]
  },
  {
   "cell_type": "code",
   "execution_count": 2,
   "metadata": {},
   "outputs": [],
   "source": [
    "model_name = 'pointnet2_cls_msg'\n",
    "device_name = 'cuda:0'\n",
    "num_class = 40"
   ]
  },
  {
   "cell_type": "code",
   "execution_count": 3,
   "metadata": {},
   "outputs": [],
   "source": [
    "# set pytorch\n",
    "device = pt.device(device_name)"
   ]
  },
  {
   "cell_type": "code",
   "execution_count": 4,
   "metadata": {},
   "outputs": [],
   "source": [
    "# add env to import model\n",
    "sys.path.append(os.path.join('./','models'))"
   ]
  },
  {
   "cell_type": "code",
   "execution_count": 5,
   "metadata": {},
   "outputs": [
    {
     "data": {
      "text/plain": [
       "<All keys matched successfully>"
      ]
     },
     "execution_count": 5,
     "metadata": {},
     "output_type": "execute_result"
    }
   ],
   "source": [
    "# load model\n",
    "MODEL = importlib.import_module(model_name)\n",
    "model = MODEL.get_model(num_class,normal_channel=True).to(device)\n",
    "\n",
    "checkpoint = pt.load('./log/classification/pointnet2_cls_msg/checkpoints/best_model.pth')\n",
    "model.load_state_dict(checkpoint['model_state_dict'])"
   ]
  },
  {
   "cell_type": "code",
   "execution_count": 6,
   "metadata": {},
   "outputs": [],
   "source": [
    "catfile = './data/modelnet40_normal_resampled/modelnet40_shape_names.txt'\n",
    "cat = [line.rstrip() for line in open(catfile)]\n",
    "classes = dict(zip(cat, range(len(cat))))\n",
    "to_class = [None]*len(classes)\n",
    "for cls in classes:\n",
    "    to_class[classes[cls]] = cls"
   ]
  },
  {
   "cell_type": "code",
   "execution_count": 11,
   "metadata": {},
   "outputs": [
    {
     "name": "stdout",
     "output_type": "stream",
     "text": [
      "(1024, 6)\n"
     ]
    }
   ],
   "source": [
    "point_set = np.loadtxt('./data/modelnet40_normal_resampled/chair/chair_0004.txt',delimiter=',').astype(np.float32)\n",
    "point_set = point_set[0:1024,:]\n",
    "point_set[:, 0:3] = pc_normalize(point_set[:, 0:3])\n",
    "print(point_set.shape)"
   ]
  },
  {
   "cell_type": "code",
   "execution_count": 12,
   "metadata": {},
   "outputs": [],
   "source": [
    "with pt.no_grad():\n",
    "    classifier = model.eval()\n",
    "    cls = classifier(pt.Tensor([point_set]).to(device).transpose(2, 1))[0].max(1)[1].data"
   ]
  },
  {
   "cell_type": "code",
   "execution_count": 13,
   "metadata": {},
   "outputs": [
    {
     "name": "stdout",
     "output_type": "stream",
     "text": [
      "chair\n"
     ]
    }
   ],
   "source": [
    "print(to_class[cls])"
   ]
  },
  {
   "cell_type": "code",
   "execution_count": null,
   "metadata": {
    "scrolled": false
   },
   "outputs": [],
   "source": []
  },
  {
   "cell_type": "code",
   "execution_count": null,
   "metadata": {},
   "outputs": [],
   "source": []
  },
  {
   "cell_type": "code",
   "execution_count": null,
   "metadata": {},
   "outputs": [],
   "source": []
  }
 ],
 "metadata": {
  "kernelspec": {
   "display_name": "Python 3",
   "language": "python",
   "name": "python3"
  },
  "language_info": {
   "codemirror_mode": {
    "name": "ipython",
    "version": 3
   },
   "file_extension": ".py",
   "mimetype": "text/x-python",
   "name": "python",
   "nbconvert_exporter": "python",
   "pygments_lexer": "ipython3",
   "version": "3.7.4"
  }
 },
 "nbformat": 4,
 "nbformat_minor": 4
}
