{
 "cells": [
  {
   "cell_type": "code",
   "execution_count": 1,
   "metadata": {},
   "outputs": [],
   "source": [
    "from py2neo import Graph,RelationshipMatcher,NodeMatcher\n",
    "from json import dumps"
   ]
  },
  {
   "cell_type": "code",
   "execution_count": 2,
   "metadata": {},
   "outputs": [],
   "source": [
    "graph = Graph(\"bolt://127.0.0.1:7687\",username='neo4j',password='password')"
   ]
  },
  {
   "cell_type": "code",
   "execution_count": 3,
   "metadata": {},
   "outputs": [],
   "source": [
    "re_matcher = RelationshipMatcher(graph)\n",
    "no_matcher = NodeMatcher(graph)"
   ]
  },
  {
   "cell_type": "code",
   "execution_count": 4,
   "metadata": {},
   "outputs": [],
   "source": [
    "def recursive_search(cls):\n",
    "    # gather object\n",
    "    label = ':Object'\n",
    "    name = cls\n",
    "    object_node = graph.run(\"MATCH (n:Object {name:\\\"%s\\\"}) return n\"%(cls))\n",
    "    if not object_node.forward():\n",
    "        object_node = graph.run(\"MATCH (n:Shape {name:\\\"%s\\\"}) return n\"%(cls))\n",
    "        label = ':Shape'\n",
    "        if not object_node.forward():\n",
    "            return {}\n",
    "    object_node = dict(object_node.current.values()[0])\n",
    "    \n",
    "    node_list = {}\n",
    "    node_list[label] = set()\n",
    "    node_list[label].add(name)\n",
    "    search_list = []\n",
    "    search_list.append((label,name))\n",
    "    \n",
    "    root_nodes = []\n",
    "    \n",
    "    # Search entire digraph with object node as begin node\n",
    "    while len(search_list) > 0:\n",
    "        all_nodes = graph.run(\"MATCH (n%s {name:\\\"%s\\\"})-[]->(m) return m\"%(search_list[0][0],search_list[0][1])).data()\n",
    "        for node in all_nodes:\n",
    "            label = str(node['m'].labels)\n",
    "            name = dict(node['m'])['name']\n",
    "            if label not in node_list:\n",
    "                node_list[label] = set()\n",
    "            if name not in node_list[label]:\n",
    "                node_list[label].add(name)\n",
    "                search_list.append((label,name))\n",
    "        if len(all_nodes)==0:\n",
    "            root_nodes.append(search_list[0])\n",
    "        search_list = search_list[1:]\n",
    "    \n",
    "    # Remove root node for each type of nodes\n",
    "    for i in root_nodes:\n",
    "        node_list[i[0]].remove(i[1])\n",
    "        \n",
    "    # Remove countered grasp types\n",
    "    if ':Concept' in node_list:\n",
    "        countered_grasp_method = []\n",
    "        for grasp_type in node_list[':GraspMethod']:\n",
    "            counter_concepts = graph.run(\"MATCH (m)-[:CantApply]->(n:GraspMethod {name:\\\"%s\\\"}) return m\"%(grasp_type)).data()\n",
    "            for counter_concept in counter_concepts:\n",
    "                if dict(counter_concept['m'])['name'] in node_list[':Concept']:\n",
    "                    countered_grasp_method.append(grasp_type)\n",
    "                    break\n",
    "        for grasp_type in countered_grasp_method:\n",
    "            node_list[':GraspMethod'].remove(grasp_type)\n",
    "            \n",
    "    # convert results to lists\n",
    "    for i in node_list:\n",
    "        node_list[i] = list(node_list[i])\n",
    "        \n",
    "    return node_list"
   ]
  },
  {
   "cell_type": "code",
   "execution_count": 8,
   "metadata": {},
   "outputs": [
    {
     "name": "stdout",
     "output_type": "stream",
     "text": [
      "{\n",
      "  \":Object\": [\n",
      "    \"Cup\",\n",
      "    \"Wall of Cup\",\n",
      "    \"Container\",\n",
      "    \"Drink Container\",\n",
      "    \"Mark Cup\",\n",
      "    \"Cup Handle\"\n",
      "  ],\n",
      "  \":Shape\": [\n",
      "    \"Flared Handle\",\n",
      "    \"Cylinder\"\n",
      "  ],\n",
      "  \":GraspMethod\": [\n",
      "    \"Attract Grasping\",\n",
      "    \"Hold Grasping\",\n",
      "    \"Pinch Grasping\"\n",
      "  ]\n",
      "}\n"
     ]
    }
   ],
   "source": [
    "print(dumps(recursive_search(\"Mark Cup\"),indent='  '))"
   ]
  },
  {
   "cell_type": "code",
   "execution_count": 193,
   "metadata": {},
   "outputs": [],
   "source": [
    "# def direct_search(cls = \"Mark Cup\"):\n",
    "#     # gather object\n",
    "#     object_node = dict(graph.run(\"MATCH (n:Object {name:\\\"%s\\\"}) return n\"%(cls)).next().values()[0])\n",
    "#     all_nodes = graph.run(\"MATCH (n:Object {name:\\\"%s\\\"})-[r:Assembled_Of]->(m) return m\"%(cls))\n",
    "    \n",
    "#     # gather subparts, if None, add object's self as a subpart\n",
    "#     subparts = []\n",
    "#     while all_nodes.forward():\n",
    "#         subparts.append(dict(all_nodes.current.values()[0]))\n",
    "#     if len(subparts)==0:\n",
    "#         subparts.append(object_node)\n",
    "#     subparts = {i['name']:i['description'] for i in subparts}\n",
    "    \n",
    "#     # gather shapes\n",
    "#     for part_name in subparts:\n",
    "#         description = subparts[part_name]\n",
    "#         subparts[part_name] = {\"description\":description,\"shapes\":[]}\n",
    "#         formed_shapes = graph.run(\"MATCH (n:Object {name:\\\"%s\\\"})-[r:Shape_Of]->(m) return m\"%(part_name))\n",
    "#         shapes = []\n",
    "#         while formed_shapes.forward():\n",
    "#             shapes.append(dict(formed_shapes.current.values()[0]))\n",
    "#         subparts[part_name][\"shapes\"] = {i['name']:{\"description\":i['description'],\"grasps\":[]} for i in shapes}\n",
    "    \n",
    "#     # gather grasp types\n",
    "#     all_available_grasps = {}\n",
    "#     for part_name in subparts:\n",
    "#         for shape_name in subparts[part_name][\"shapes\"]:\n",
    "#             grasp_choices = graph.run(\"MATCH (n:Shape {name:\\\"%s\\\"})-[r:CanApply]->(m) return m\"%(shape_name))\n",
    "#             grasps = []\n",
    "#             while grasp_choices.forward():\n",
    "#                 grasps.append(dict(grasp_choices.current.values()[0]))\n",
    "#             subparts[part_name][\"shapes\"][shape_name]['grasps'] = {i['name']:{\"description\":i['description']} for i in grasps}\n",
    "#             for grasp_type in subparts[part_name][\"shapes\"][shape_name]['grasps']:\n",
    "#                 if grasp_type not in all_available_grasps:\n",
    "#                     all_available_grasps[grasp_type] = 0\n",
    "#                 all_available_grasps[grasp_type] += 1\n",
    "#     return subparts,all_available_grasps"
   ]
  },
  {
   "cell_type": "code",
   "execution_count": 194,
   "metadata": {},
   "outputs": [],
   "source": [
    "# gathered_info, gathered_grasp_types = direct_search(\"Cup\")\n",
    "# print(\"grasp*Shape_cnts: \",dumps(gathered_grasp_types,indent='  '))\n",
    "# print()\n",
    "# print(\"tree display of info gathered: \",dumps(gathered_info,indent='  '))"
   ]
  },
  {
   "cell_type": "code",
   "execution_count": null,
   "metadata": {},
   "outputs": [],
   "source": [
    "知识库的更新"
   ]
  }
 ],
 "metadata": {
  "kernelspec": {
   "display_name": "Python 3",
   "language": "python",
   "name": "python3"
  },
  "language_info": {
   "codemirror_mode": {
    "name": "ipython",
    "version": 3
   },
   "file_extension": ".py",
   "mimetype": "text/x-python",
   "name": "python",
   "nbconvert_exporter": "python",
   "pygments_lexer": "ipython3",
   "version": "3.7.4"
  }
 },
 "nbformat": 4,
 "nbformat_minor": 2
}
