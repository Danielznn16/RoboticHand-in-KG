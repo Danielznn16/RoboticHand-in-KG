{
 "cells": [
  {
   "cell_type": "code",
   "execution_count": 74,
   "metadata": {},
   "outputs": [],
   "source": [
    "from py2neo import Graph,RelationshipMatcher,NodeMatcher\n",
    "from json import dumps"
   ]
  },
  {
   "cell_type": "code",
   "execution_count": 4,
   "metadata": {},
   "outputs": [],
   "source": [
    "graph = Graph(\"bolt://127.0.0.1:7687\",username='neo4j',password='zhan1216')"
   ]
  },
  {
   "cell_type": "code",
   "execution_count": 5,
   "metadata": {},
   "outputs": [],
   "source": [
    "re_matcher = RelationshipMatcher(graph)\n",
    "no_matcher = NodeMatcher(graph)"
   ]
  },
  {
   "cell_type": "code",
   "execution_count": 95,
   "metadata": {},
   "outputs": [],
   "source": [
    "def direct_search(cls = \"Mark Cup\"):\n",
    "    # gather object\n",
    "    object_node = dict(graph.run(\"MATCH (n:Object {name:\\\"%s\\\"}) return n\"%(cls)).next().values()[0])\n",
    "    all_nodes = graph.run(\"MATCH (n:Object {name:\\\"%s\\\"})-[r:Assembled_Of]->(m) return m\"%(cls))\n",
    "    \n",
    "    # gather subparts, if None, add object's self as a subpart\n",
    "    subparts = []\n",
    "    while all_nodes.forward():\n",
    "        subparts.append(dict(all_nodes.current.values()[0]))\n",
    "    if len(subparts)==0:\n",
    "        subparts.append(object_node)\n",
    "    subparts = {i['name']:i['description'] for i in subparts}\n",
    "    \n",
    "    # gather shapes\n",
    "    for part_name in subparts:\n",
    "        description = subparts[part_name]\n",
    "        subparts[part_name] = {\"description\":description,\"shapes\":[]}\n",
    "        formed_shapes = graph.run(\"MATCH (n:Object {name:\\\"%s\\\"})-[r:Shape_Of]->(m) return m\"%(part_name))\n",
    "        shapes = []\n",
    "        while formed_shapes.forward():\n",
    "            shapes.append(dict(formed_shapes.current.values()[0]))\n",
    "        subparts[part_name][\"shapes\"] = {i['name']:{\"description\":i['description'],\"grasps\":[]} for i in shapes}\n",
    "    \n",
    "    # gather grasp types\n",
    "    all_available_grasps = {}\n",
    "    for part_name in subparts:\n",
    "        for shape_name in subparts[part_name][\"shapes\"]:\n",
    "            grasp_choices = graph.run(\"MATCH (n:Shape {name:\\\"%s\\\"})-[r:CanApply]->(m) return m\"%(shape_name))\n",
    "            grasps = []\n",
    "            while grasp_choices.forward():\n",
    "                grasps.append(dict(grasp_choices.current.values()[0]))\n",
    "            subparts[part_name][\"shapes\"][shape_name]['grasps'] = {i['name']:{\"description\":i['description']} for i in grasps}\n",
    "            for grasp_type in subparts[part_name][\"shapes\"][shape_name]['grasps']:\n",
    "                if grasp_type not in all_available_grasps:\n",
    "                    all_available_grasps[grasp_type] = 0\n",
    "                all_available_grasps[grasp_type] += 1\n",
    "    return subparts,all_available_grasps"
   ]
  },
  {
   "cell_type": "code",
   "execution_count": 98,
   "metadata": {},
   "outputs": [
    {
     "name": "stdout",
     "output_type": "stream",
     "text": [
      "grasp*Shape_cnts:  {\n",
      "  \"Hold Grasping\": 2,\n",
      "  \"Attract Grasping\": 1,\n",
      "  \"Pinch Grasping\": 1\n",
      "}\n",
      "\n",
      "tree display of info gathered:  {\n",
      "  \"Cup Handle\": {\n",
      "    \"description\": \"the handle of the cup\",\n",
      "    \"shapes\": {\n",
      "      \"Flared Handle\": {\n",
      "        \"description\": \"handles that often occures on a cup\",\n",
      "        \"grasps\": {\n",
      "          \"Hold Grasping\": {\n",
      "            \"description\": \"Grasping by Holding the target\"\n",
      "          }\n",
      "        }\n",
      "      }\n",
      "    }\n",
      "  },\n",
      "  \"Wall of Cup\": {\n",
      "    \"description\": \"the part of the cup without the lid and the handle\",\n",
      "    \"shapes\": {\n",
      "      \"Cylinder\": {\n",
      "        \"description\": \"Cylinder Shape\",\n",
      "        \"grasps\": {\n",
      "          \"Attract Grasping\": {\n",
      "            \"description\": \"Grasping by Sucking/Attracting the target\"\n",
      "          },\n",
      "          \"Hold Grasping\": {\n",
      "            \"description\": \"Grasping by Holding the target\"\n",
      "          },\n",
      "          \"Pinch Grasping\": {\n",
      "            \"description\": \"Grasping by Pinching the target\"\n",
      "          }\n",
      "        }\n",
      "      }\n",
      "    }\n",
      "  }\n",
      "}\n"
     ]
    }
   ],
   "source": [
    "gathered_info, gathered_grasp_types = direct_search(\"Mark Cup\")\n",
    "print(\"grasp*Shape_cnts: \",dumps(gathered_grasp_types,indent='  '))\n",
    "print()\n",
    "print(\"tree display of info gathered: \",dumps(gathered_info,indent='  '))"
   ]
  },
  {
   "cell_type": "code",
   "execution_count": null,
   "metadata": {},
   "outputs": [],
   "source": []
  },
  {
   "cell_type": "code",
   "execution_count": null,
   "metadata": {},
   "outputs": [],
   "source": []
  },
  {
   "cell_type": "code",
   "execution_count": null,
   "metadata": {},
   "outputs": [],
   "source": []
  }
 ],
 "metadata": {
  "kernelspec": {
   "display_name": "Python 3",
   "language": "python",
   "name": "python3"
  },
  "language_info": {
   "codemirror_mode": {
    "name": "ipython",
    "version": 3
   },
   "file_extension": ".py",
   "mimetype": "text/x-python",
   "name": "python",
   "nbconvert_exporter": "python",
   "pygments_lexer": "ipython3",
   "version": "3.7.4"
  }
 },
 "nbformat": 4,
 "nbformat_minor": 2
}
